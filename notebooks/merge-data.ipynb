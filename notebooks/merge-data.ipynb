{
 "cells": [
  {
   "cell_type": "code",
   "id": "initial_id",
   "metadata": {
    "collapsed": true,
    "ExecuteTime": {
     "end_time": "2025-01-03T15:40:44.395151Z",
     "start_time": "2025-01-03T15:40:42.758110Z"
    }
   },
   "source": [
    "import pandas as pd\n",
    "import numpy as np\n",
    "\n",
    "# Funktion zur Berechnung der Distanz (Haversine-Formel)\n",
    "def haversine(lat1, lon1, lat2, lon2):\n",
    "    R = 6371  # Erdradius in Kilometern\n",
    "    phi1 = np.radians(lat1)\n",
    "    phi2 = np.radians(lat2)\n",
    "    delta_phi = np.radians(lat2 - lat1)\n",
    "    delta_lambda = np.radians(lon2 - lon1)\n",
    "    a = np.sin(delta_phi / 2.0) ** 2 + np.cos(phi1) * np.cos(phi2) * np.sin(delta_lambda / 2.0) ** 2\n",
    "    c = 2 * np.arctan2(np.sqrt(a), np.sqrt(1 - a))\n",
    "    return R * c\n",
    "\n",
    "airlines = pd.read_csv('../data/airlines.csv')\n",
    "airports = pd.read_csv('../data/airports.csv')\n",
    "routes = pd.read_csv('../data/routes.csv')\n",
    "\n",
    "# Spaltennamen bereinigen\n",
    "airlines.columns = ['id', 'name', 'alias', 'iata', 'icao', 'callsign', 'country', 'active']\n",
    "airports.columns = ['id', 'name', 'city', 'country', 'iata', 'icao', 'latitude', 'longitude', 'altitude', 'timezone', 'dst', 'tz_database_time_zone', 'type', 'source']\n",
    "routes.columns = ['airline', 'airline_id', 'source_airport', 'source_airport_id', 'destination_airport', 'destination_airport_id', 'codeshare', 'stops', 'equipment']\n",
    "\n",
    "# Zusammenführung von Routen mit Flughafendaten\n",
    "routes = routes.merge(airports[['iata', 'latitude', 'longitude', 'name', 'city', 'country']], \n",
    "                      left_on='source_airport', right_on='iata', how='left').rename(\n",
    "                      columns={'latitude': 'source_lat', 'longitude': 'source_lon',\n",
    "                               'name': 'source_name', 'city': 'source_city', 'country': 'source_country'})\n",
    "\n",
    "routes = routes.merge(airports[['iata', 'latitude', 'longitude', 'name', 'city', 'country']], \n",
    "                      left_on='destination_airport', right_on='iata', how='left').rename(\n",
    "                      columns={'latitude': 'dest_lat', 'longitude': 'dest_lon',\n",
    "                               'name': 'dest_name', 'city': 'dest_city', 'country': 'dest_country'})\n",
    "\n",
    "# Zusammenführung mit Airline-Daten\n",
    "routes = routes.merge(airlines, left_on='airline', right_on='iata', how='left').rename(\n",
    "                      columns={'name': 'airline_name', 'alias': 'airline_alias', 'icao': 'airline_icao',\n",
    "                               'callsign': 'airline_callsign', 'country': 'airline_country', 'active': 'airline_active'})\n",
    "\n",
    "# Berechnung der Distanz\n",
    "routes['distance_km'] = haversine(routes['source_lat'], routes['source_lon'], routes['dest_lat'], routes['dest_lon'])\n",
    "\n",
    "# Auswahl der relevanten Spalten\n",
    "summary = routes[['source_airport', 'source_name', 'source_city', 'source_country', 'source_lat', 'source_lon',\n",
    "                  'destination_airport', 'dest_name', 'dest_city', 'dest_country', 'dest_lat', 'dest_lon',\n",
    "                  'airline_name', 'airline_alias', 'airline_icao', 'airline_callsign', 'airline_country', 'airline_active', 'stops', 'distance_km']]\n",
    "\n",
    "# Ergebnis als CSV-Datei speichern\n",
    "summary.to_csv('../data/flughafen_netzwerk.csv', index=False)\n",
    "\n",
    "print(\"Daten erfolgreich zusammengefasst und gespeichert als 'flughafen_netzwerk.csv'\")\n"
   ],
   "outputs": [
    {
     "name": "stdout",
     "output_type": "stream",
     "text": [
      "Daten erfolgreich zusammengefasst und gespeichert als 'flughafen_netzwerk.csv'\n"
     ]
    }
   ],
   "execution_count": 4
  },
  {
   "metadata": {
    "ExecuteTime": {
     "end_time": "2025-01-03T15:40:44.400400Z",
     "start_time": "2025-01-03T15:40:44.397890Z"
    }
   },
   "cell_type": "code",
   "source": "",
   "id": "b3f081929b4b610d",
   "outputs": [],
   "execution_count": 4
  }
 ],
 "metadata": {
  "kernelspec": {
   "display_name": "Python 3",
   "language": "python",
   "name": "python3"
  },
  "language_info": {
   "codemirror_mode": {
    "name": "ipython",
    "version": 2
   },
   "file_extension": ".py",
   "mimetype": "text/x-python",
   "name": "python",
   "nbconvert_exporter": "python",
   "pygments_lexer": "ipython2",
   "version": "2.7.6"
  }
 },
 "nbformat": 4,
 "nbformat_minor": 5
}

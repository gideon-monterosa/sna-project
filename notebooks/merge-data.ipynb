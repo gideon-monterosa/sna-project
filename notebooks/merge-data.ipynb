{
 "cells": [
  {
   "cell_type": "code",
   "execution_count": 3,
   "id": "initial_id",
   "metadata": {
    "collapsed": true,
    "ExecuteTime": {
     "end_time": "2025-01-03T13:30:45.949328Z",
     "start_time": "2025-01-03T13:30:45.016252Z"
    }
   },
   "outputs": [
    {
     "name": "stdout",
     "output_type": "stream",
     "text": [
      "Daten erfolgreich zusammengefasst und gespeichert als 'flughafen_netzwerk_zusammenfassung.csv'\n"
     ]
    }
   ],
   "source": [
    "import pandas as pd\n",
    "\n",
    "# Daten einlesen\n",
    "airlines = pd.read_csv('../data/airlines.csv')\n",
    "airports = pd.read_csv('../data/airports.csv')\n",
    "routes = pd.read_csv('../data/routes.csv')\n",
    "\n",
    "# Spaltennamen bereinigen\n",
    "airlines.columns = ['id', 'name', 'alias', 'iata', 'icao', 'callsign', 'country', 'active']\n",
    "airports.columns = ['id', 'name', 'city', 'country', 'iata', 'icao', 'latitude', 'longitude', 'altitude', 'timezone', 'dst', 'tz_database_time_zone', 'type', 'source']\n",
    "routes.columns = ['airline', 'airline_id', 'source_airport', 'source_airport_id', 'destination_airport', 'destination_airport_id', 'codeshare', 'stops', 'equipment']\n",
    "\n",
    "# Zusammenführung von Routen mit Flughafendaten\n",
    "routes = routes.merge(airports[['iata', 'latitude', 'longitude', 'name', 'city', 'country']],\n",
    "                      left_on='source_airport', right_on='iata', how='left').rename(\n",
    "    columns={'latitude': 'source_lat', 'longitude': 'source_lon',\n",
    "             'name': 'source_name', 'city': 'source_city', 'country': 'source_country'})\n",
    "\n",
    "routes = routes.merge(airports[['iata', 'latitude', 'longitude', 'name', 'city', 'country']],\n",
    "                      left_on='destination_airport', right_on='iata', how='left').rename(\n",
    "    columns={'latitude': 'dest_lat', 'longitude': 'dest_lon',\n",
    "             'name': 'dest_name', 'city': 'dest_city', 'country': 'dest_country'})\n",
    "\n",
    "# Auswahl der relevanten Spalten\n",
    "summary = routes[['source_airport', 'source_name', 'source_city', 'source_country', 'source_lat', 'source_lon',\n",
    "                  'destination_airport', 'dest_name', 'dest_city', 'dest_country', 'dest_lat', 'dest_lon',\n",
    "                  'airline', 'stops']]\n",
    "\n",
    "# Ergebnis als CSV-Datei speichern\n",
    "summary.to_csv('../data/flughafen_netzwerk_zusammenfassung.csv', index=False)\n",
    "\n",
    "print(\"Daten erfolgreich zusammengefasst und gespeichert als 'flughafen_netzwerk_zusammenfassung.csv'\")"
   ]
  }
 ],
 "metadata": {
  "kernelspec": {
   "display_name": "Python 3",
   "language": "python",
   "name": "python3"
  },
  "language_info": {
   "codemirror_mode": {
    "name": "ipython",
    "version": 2
   },
   "file_extension": ".py",
   "mimetype": "text/x-python",
   "name": "python",
   "nbconvert_exporter": "python",
   "pygments_lexer": "ipython2",
   "version": "2.7.6"
  }
 },
 "nbformat": 4,
 "nbformat_minor": 5
}

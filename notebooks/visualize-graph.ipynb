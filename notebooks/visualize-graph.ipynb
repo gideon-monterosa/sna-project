{
 "cells": [
  {
   "cell_type": "code",
   "outputs": [],
   "source": [
    "import pandas as pd\n",
    "import networkx as nx\n",
    "import matplotlib.pyplot as plt\n"
   ],
   "metadata": {
    "collapsed": false,
    "ExecuteTime": {
     "end_time": "2025-01-03T13:53:32.041943Z",
     "start_time": "2025-01-03T13:53:32.038652Z"
    }
   },
   "id": "ed26a3ca9123a9d1",
   "execution_count": 8
  },
  {
   "cell_type": "code",
   "outputs": [],
   "source": [
    "# Load summarized data\n",
    "summary_path = '../data/flughafen_netzwerk_zusammenfassung.csv'\n",
    "summary_df = pd.read_csv(summary_path)\n",
    "\n",
    "# Create the graph\n",
    "graph = nx.DiGraph()\n"
   ],
   "metadata": {
    "collapsed": false,
    "ExecuteTime": {
     "end_time": "2025-01-03T13:53:32.298001Z",
     "start_time": "2025-01-03T13:53:32.046776Z"
    }
   },
   "id": "a3b333b732970a24",
   "execution_count": 9
  },
  {
   "cell_type": "code",
   "execution_count": null,
   "id": "initial_id",
   "metadata": {
    "collapsed": true,
    "is_executing": true,
    "ExecuteTime": {
     "start_time": "2025-01-03T13:53:32.299966Z"
    }
   },
   "outputs": [],
   "source": [
    "\n",
    "# Add nodes from summary data\n",
    "for index, row in summary_df.iterrows():\n",
    "    graph.add_node(\n",
    "        row['source_airport'],\n",
    "        name=row['source_name'],\n",
    "        city=row['source_city'],\n",
    "        country=row['source_country'],\n",
    "        latitude=row['source_lat'],\n",
    "        longitude=row['source_lon']\n",
    "    )\n",
    "    graph.add_node(\n",
    "        row['destination_airport'],\n",
    "        name=row['dest_name'],\n",
    "        city=row['dest_city'],\n",
    "        country=row['dest_country'],\n",
    "        latitude=row['dest_lat'],\n",
    "        longitude=row['dest_lon']\n",
    "    )\n",
    "\n",
    "# Add edges from summary data\n",
    "for index, row in summary_df.iterrows():\n",
    "    graph.add_edge(\n",
    "        row['source_airport'],\n",
    "        row['destination_airport'],\n",
    "        airline=row['airline'],\n",
    "        stops=row['stops']\n",
    "    )\n",
    "\n",
    "# Draw the graph\n",
    "plt.figure(figsize=(15, 10))\n",
    "pos = nx.spring_layout(graph)\n",
    "nx.draw(\n",
    "    graph,\n",
    "    pos,\n",
    "    with_labels=True,\n",
    "    node_size=500,\n",
    "    node_color='skyblue',\n",
    "    font_size=10,\n",
    "    font_weight='bold'\n",
    ")\n",
    "nx.draw_networkx_edge_labels(\n",
    "    graph,\n",
    "    pos,\n",
    "    edge_labels={(u, v): f\"{d['airline']} ({d['stops']} stops)\" for u, v, d in graph.edges(data=True)}\n",
    ")\n",
    "plt.title(\"Zusammengefasster Flughafen Netzwerk Graph\")\n",
    "plt.show()\n"
   ]
  }
 ],
 "metadata": {
  "kernelspec": {
   "display_name": "Python 3",
   "language": "python",
   "name": "python3"
  },
  "language_info": {
   "codemirror_mode": {
    "name": "ipython",
    "version": 2
   },
   "file_extension": ".py",
   "mimetype": "text/x-python",
   "name": "python",
   "nbconvert_exporter": "python",
   "pygments_lexer": "ipython2",
   "version": "2.7.6"
  }
 },
 "nbformat": 4,
 "nbformat_minor": 5
}
